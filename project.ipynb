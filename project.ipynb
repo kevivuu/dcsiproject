{
 "cells": [
  {
   "cell_type": "markdown",
   "id": "8506eaa3-6252-41ec-82e1-d696ef009b13",
   "metadata": {},
   "source": [
    "\"What's Up\""
   ]
  }
 ],
 "metadata": {
  "kernelspec": {
   "display_name": "R",
   "language": "R",
   "name": "ir"
  },
  "language_info": {
   "codemirror_mode": "r",
   "file_extension": ".r",
   "mimetype": "text/x-r-source",
   "name": "R",
   "pygments_lexer": "r",
   "version": "4.3.1"
  }
 },
 "nbformat": 4,
 "nbformat_minor": 5
}
